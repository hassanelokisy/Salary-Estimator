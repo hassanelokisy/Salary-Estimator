{
 "cells": [
  {
   "cell_type": "markdown",
   "id": "4b15ebd5-4daf-4760-9aab-a58110bc6230",
   "metadata": {},
   "source": [
    "### Import Libraries"
   ]
  },
  {
   "cell_type": "code",
   "execution_count": 217,
   "id": "9568580f-0053-45e9-b126-e7c448bec618",
   "metadata": {},
   "outputs": [],
   "source": [
    "import warnings\n",
    "import pandas as pd \n",
    "import numpy as np \n",
    "import matplotlib.pyplot as plt \n",
    "from sklearn.model_selection import train_test_split, cross_val_score, KFold\n",
    "from sklearn.pipeline import make_pipeline, Pipeline\n",
    "from sklearn.preprocessing import OneHotEncoder, LabelEncoder\n",
    "from sklearn.compose import make_column_transformer \n",
    "from sklearn.impute import SimpleImputer\n",
    "from sklearn.pipeline import make_pipeline\n",
    "from sklearn.metrics import mean_squared_error, mean_absolute_error\n",
    "\n",
    "warnings.filterwarnings('ignore')\n",
    "pd.set_option(\"display.max_columns\", None)"
   ]
  },
  {
   "cell_type": "markdown",
   "id": "28667934-13af-40e7-b359-e040c575d0ac",
   "metadata": {},
   "source": [
    "## Load Datasets"
   ]
  },
  {
   "cell_type": "code",
   "execution_count": 218,
   "id": "24ecd00e-113c-4321-a360-4e15482895fd",
   "metadata": {},
   "outputs": [],
   "source": [
    "df = pd.read_csv('files/salary_data_cleaned.csv')"
   ]
  },
  {
   "cell_type": "markdown",
   "id": "6916de78-ca18-4f8b-9f2f-6e90ce1cb7e0",
   "metadata": {},
   "source": [
    "## Exploratory Data Analysis"
   ]
  },
  {
   "cell_type": "code",
   "execution_count": 219,
   "id": "9660e35c-e3b4-480d-9d73-dbb47aa5ee01",
   "metadata": {},
   "outputs": [
    {
     "data": {
      "text/plain": [
       "Index(['job_title', 'salary_estimate', 'job_description', 'rating',\n",
       "       'company_name', 'location', 'headquarters', 'size', 'founded',\n",
       "       'type_of_ownership', 'industry', 'sector', 'revenue', 'competitors',\n",
       "       'hourly', 'employer_provided', 'min_salary', 'max_salary', 'avg_salary',\n",
       "       'job_state', 'same_state', 'age', 'python', 'aws', 'spark', 'excel',\n",
       "       'job_simp', 'seniority', 'desc_len', 'num_comp'],\n",
       "      dtype='object')"
      ]
     },
     "execution_count": 219,
     "metadata": {},
     "output_type": "execute_result"
    }
   ],
   "source": [
    "df.columns"
   ]
  },
  {
   "cell_type": "code",
   "execution_count": 220,
   "id": "183e9082-9d93-4dce-92c4-615eb7698e6f",
   "metadata": {},
   "outputs": [
    {
     "data": {
      "text/html": [
       "<div>\n",
       "<style scoped>\n",
       "    .dataframe tbody tr th:only-of-type {\n",
       "        vertical-align: middle;\n",
       "    }\n",
       "\n",
       "    .dataframe tbody tr th {\n",
       "        vertical-align: top;\n",
       "    }\n",
       "\n",
       "    .dataframe thead th {\n",
       "        text-align: right;\n",
       "    }\n",
       "</style>\n",
       "<table border=\"1\" class=\"dataframe\">\n",
       "  <thead>\n",
       "    <tr style=\"text-align: right;\">\n",
       "      <th></th>\n",
       "      <th>job_title</th>\n",
       "      <th>salary_estimate</th>\n",
       "      <th>job_description</th>\n",
       "      <th>rating</th>\n",
       "      <th>company_name</th>\n",
       "      <th>location</th>\n",
       "      <th>headquarters</th>\n",
       "      <th>size</th>\n",
       "      <th>founded</th>\n",
       "      <th>type_of_ownership</th>\n",
       "      <th>industry</th>\n",
       "      <th>sector</th>\n",
       "      <th>revenue</th>\n",
       "      <th>competitors</th>\n",
       "      <th>hourly</th>\n",
       "      <th>employer_provided</th>\n",
       "      <th>min_salary</th>\n",
       "      <th>max_salary</th>\n",
       "      <th>avg_salary</th>\n",
       "      <th>job_state</th>\n",
       "      <th>same_state</th>\n",
       "      <th>age</th>\n",
       "      <th>python</th>\n",
       "      <th>aws</th>\n",
       "      <th>spark</th>\n",
       "      <th>excel</th>\n",
       "      <th>job_simp</th>\n",
       "      <th>seniority</th>\n",
       "      <th>desc_len</th>\n",
       "      <th>num_comp</th>\n",
       "    </tr>\n",
       "  </thead>\n",
       "  <tbody>\n",
       "    <tr>\n",
       "      <th>0</th>\n",
       "      <td>Data Scientist</td>\n",
       "      <td>53-91</td>\n",
       "      <td>Data Scientist\\nLocation: Albuquerque, NM\\nEdu...</td>\n",
       "      <td>3.8</td>\n",
       "      <td>Tecolote Research</td>\n",
       "      <td>Albuquerque, NM</td>\n",
       "      <td>Goleta, CA</td>\n",
       "      <td>501 to 1000 employees</td>\n",
       "      <td>1973</td>\n",
       "      <td>Company - Private</td>\n",
       "      <td>Aerospace &amp; Defense</td>\n",
       "      <td>Aerospace &amp; Defense</td>\n",
       "      <td>$50 to $100 million (USD)</td>\n",
       "      <td>-1</td>\n",
       "      <td>0</td>\n",
       "      <td>0</td>\n",
       "      <td>53</td>\n",
       "      <td>91</td>\n",
       "      <td>72.0</td>\n",
       "      <td>NM</td>\n",
       "      <td>0</td>\n",
       "      <td>48</td>\n",
       "      <td>1</td>\n",
       "      <td>0</td>\n",
       "      <td>0</td>\n",
       "      <td>1</td>\n",
       "      <td>data scientist</td>\n",
       "      <td>na</td>\n",
       "      <td>2536</td>\n",
       "      <td>0</td>\n",
       "    </tr>\n",
       "    <tr>\n",
       "      <th>1</th>\n",
       "      <td>Healthcare Data Scientist</td>\n",
       "      <td>63-112</td>\n",
       "      <td>What You Will Do:\\n\\nI. General Summary\\n\\nThe...</td>\n",
       "      <td>3.4</td>\n",
       "      <td>University of Maryland Medical System</td>\n",
       "      <td>Linthicum, MD</td>\n",
       "      <td>Baltimore, MD</td>\n",
       "      <td>10000+ employees</td>\n",
       "      <td>1984</td>\n",
       "      <td>Other Organization</td>\n",
       "      <td>Health Care Services &amp; Hospitals</td>\n",
       "      <td>Health Care</td>\n",
       "      <td>$2 to $5 billion (USD)</td>\n",
       "      <td>-1</td>\n",
       "      <td>0</td>\n",
       "      <td>0</td>\n",
       "      <td>63</td>\n",
       "      <td>112</td>\n",
       "      <td>87.5</td>\n",
       "      <td>MD</td>\n",
       "      <td>0</td>\n",
       "      <td>37</td>\n",
       "      <td>1</td>\n",
       "      <td>0</td>\n",
       "      <td>0</td>\n",
       "      <td>0</td>\n",
       "      <td>data scientist</td>\n",
       "      <td>na</td>\n",
       "      <td>4783</td>\n",
       "      <td>0</td>\n",
       "    </tr>\n",
       "    <tr>\n",
       "      <th>2</th>\n",
       "      <td>Data Scientist</td>\n",
       "      <td>80-90</td>\n",
       "      <td>KnowBe4, Inc. is a high growth information sec...</td>\n",
       "      <td>4.8</td>\n",
       "      <td>KnowBe4</td>\n",
       "      <td>Clearwater, FL</td>\n",
       "      <td>Clearwater, FL</td>\n",
       "      <td>501 to 1000 employees</td>\n",
       "      <td>2010</td>\n",
       "      <td>Company - Private</td>\n",
       "      <td>Security Services</td>\n",
       "      <td>Business Services</td>\n",
       "      <td>$100 to $500 million (USD)</td>\n",
       "      <td>-1</td>\n",
       "      <td>0</td>\n",
       "      <td>0</td>\n",
       "      <td>80</td>\n",
       "      <td>90</td>\n",
       "      <td>85.0</td>\n",
       "      <td>FL</td>\n",
       "      <td>1</td>\n",
       "      <td>11</td>\n",
       "      <td>1</td>\n",
       "      <td>0</td>\n",
       "      <td>1</td>\n",
       "      <td>1</td>\n",
       "      <td>data scientist</td>\n",
       "      <td>na</td>\n",
       "      <td>3461</td>\n",
       "      <td>0</td>\n",
       "    </tr>\n",
       "    <tr>\n",
       "      <th>3</th>\n",
       "      <td>Data Scientist</td>\n",
       "      <td>56-97</td>\n",
       "      <td>*Organization and Job ID**\\nJob ID: 310709\\n\\n...</td>\n",
       "      <td>3.8</td>\n",
       "      <td>PNNL</td>\n",
       "      <td>Richland, WA</td>\n",
       "      <td>Richland, WA</td>\n",
       "      <td>1001 to 5000 employees</td>\n",
       "      <td>1965</td>\n",
       "      <td>Government</td>\n",
       "      <td>Energy</td>\n",
       "      <td>Oil, Gas, Energy &amp; Utilities</td>\n",
       "      <td>$500 million to $1 billion (USD)</td>\n",
       "      <td>Oak Ridge National Laboratory, National Renewa...</td>\n",
       "      <td>0</td>\n",
       "      <td>0</td>\n",
       "      <td>56</td>\n",
       "      <td>97</td>\n",
       "      <td>76.5</td>\n",
       "      <td>WA</td>\n",
       "      <td>1</td>\n",
       "      <td>56</td>\n",
       "      <td>1</td>\n",
       "      <td>0</td>\n",
       "      <td>0</td>\n",
       "      <td>0</td>\n",
       "      <td>data scientist</td>\n",
       "      <td>na</td>\n",
       "      <td>3883</td>\n",
       "      <td>3</td>\n",
       "    </tr>\n",
       "    <tr>\n",
       "      <th>4</th>\n",
       "      <td>Data Scientist</td>\n",
       "      <td>86-143</td>\n",
       "      <td>Data Scientist\\nAffinity Solutions / Marketing...</td>\n",
       "      <td>2.9</td>\n",
       "      <td>Affinity Solutions</td>\n",
       "      <td>New York, NY</td>\n",
       "      <td>New York, NY</td>\n",
       "      <td>51 to 200 employees</td>\n",
       "      <td>1998</td>\n",
       "      <td>Company - Private</td>\n",
       "      <td>Advertising &amp; Marketing</td>\n",
       "      <td>Business Services</td>\n",
       "      <td>Unknown / Non-Applicable</td>\n",
       "      <td>Commerce Signals, Cardlytics, Yodlee</td>\n",
       "      <td>0</td>\n",
       "      <td>0</td>\n",
       "      <td>86</td>\n",
       "      <td>143</td>\n",
       "      <td>114.5</td>\n",
       "      <td>NY</td>\n",
       "      <td>1</td>\n",
       "      <td>23</td>\n",
       "      <td>1</td>\n",
       "      <td>0</td>\n",
       "      <td>0</td>\n",
       "      <td>1</td>\n",
       "      <td>data scientist</td>\n",
       "      <td>na</td>\n",
       "      <td>2728</td>\n",
       "      <td>3</td>\n",
       "    </tr>\n",
       "  </tbody>\n",
       "</table>\n",
       "</div>"
      ],
      "text/plain": [
       "                   job_title salary_estimate  \\\n",
       "0             Data Scientist           53-91   \n",
       "1  Healthcare Data Scientist          63-112   \n",
       "2             Data Scientist           80-90   \n",
       "3             Data Scientist           56-97   \n",
       "4             Data Scientist          86-143   \n",
       "\n",
       "                                     job_description  rating  \\\n",
       "0  Data Scientist\\nLocation: Albuquerque, NM\\nEdu...     3.8   \n",
       "1  What You Will Do:\\n\\nI. General Summary\\n\\nThe...     3.4   \n",
       "2  KnowBe4, Inc. is a high growth information sec...     4.8   \n",
       "3  *Organization and Job ID**\\nJob ID: 310709\\n\\n...     3.8   \n",
       "4  Data Scientist\\nAffinity Solutions / Marketing...     2.9   \n",
       "\n",
       "                            company_name         location    headquarters  \\\n",
       "0                      Tecolote Research  Albuquerque, NM      Goleta, CA   \n",
       "1  University of Maryland Medical System    Linthicum, MD   Baltimore, MD   \n",
       "2                                KnowBe4   Clearwater, FL  Clearwater, FL   \n",
       "3                                   PNNL     Richland, WA    Richland, WA   \n",
       "4                     Affinity Solutions     New York, NY    New York, NY   \n",
       "\n",
       "                     size  founded   type_of_ownership  \\\n",
       "0   501 to 1000 employees     1973   Company - Private   \n",
       "1        10000+ employees     1984  Other Organization   \n",
       "2   501 to 1000 employees     2010   Company - Private   \n",
       "3  1001 to 5000 employees     1965          Government   \n",
       "4     51 to 200 employees     1998   Company - Private   \n",
       "\n",
       "                           industry                        sector  \\\n",
       "0               Aerospace & Defense           Aerospace & Defense   \n",
       "1  Health Care Services & Hospitals                   Health Care   \n",
       "2                 Security Services             Business Services   \n",
       "3                            Energy  Oil, Gas, Energy & Utilities   \n",
       "4           Advertising & Marketing             Business Services   \n",
       "\n",
       "                            revenue  \\\n",
       "0         $50 to $100 million (USD)   \n",
       "1            $2 to $5 billion (USD)   \n",
       "2        $100 to $500 million (USD)   \n",
       "3  $500 million to $1 billion (USD)   \n",
       "4          Unknown / Non-Applicable   \n",
       "\n",
       "                                         competitors  hourly  \\\n",
       "0                                                 -1       0   \n",
       "1                                                 -1       0   \n",
       "2                                                 -1       0   \n",
       "3  Oak Ridge National Laboratory, National Renewa...       0   \n",
       "4               Commerce Signals, Cardlytics, Yodlee       0   \n",
       "\n",
       "   employer_provided  min_salary  max_salary  avg_salary job_state  \\\n",
       "0                  0          53          91        72.0        NM   \n",
       "1                  0          63         112        87.5        MD   \n",
       "2                  0          80          90        85.0        FL   \n",
       "3                  0          56          97        76.5        WA   \n",
       "4                  0          86         143       114.5        NY   \n",
       "\n",
       "   same_state  age  python  aws  spark  excel        job_simp seniority  \\\n",
       "0           0   48       1    0      0      1  data scientist        na   \n",
       "1           0   37       1    0      0      0  data scientist        na   \n",
       "2           1   11       1    0      1      1  data scientist        na   \n",
       "3           1   56       1    0      0      0  data scientist        na   \n",
       "4           1   23       1    0      0      1  data scientist        na   \n",
       "\n",
       "   desc_len  num_comp  \n",
       "0      2536         0  \n",
       "1      4783         0  \n",
       "2      3461         0  \n",
       "3      3883         3  \n",
       "4      2728         3  "
      ]
     },
     "execution_count": 220,
     "metadata": {},
     "output_type": "execute_result"
    }
   ],
   "source": [
    "df.head()"
   ]
  },
  {
   "cell_type": "code",
   "execution_count": 247,
   "id": "773330a4-5404-41ed-aaa0-5a774d77d1cf",
   "metadata": {},
   "outputs": [
    {
     "data": {
      "text/plain": [
       "(742, 30)"
      ]
     },
     "execution_count": 247,
     "metadata": {},
     "output_type": "execute_result"
    }
   ],
   "source": [
    "df.shape"
   ]
  },
  {
   "cell_type": "code",
   "execution_count": null,
   "id": "36b18611-ddb5-4b3f-8ed7-a2bf45b34b9f",
   "metadata": {},
   "outputs": [],
   "source": []
  },
  {
   "cell_type": "code",
   "execution_count": null,
   "id": "1b4296ff-bf0b-4d66-abe6-6cb211f14770",
   "metadata": {},
   "outputs": [],
   "source": []
  },
  {
   "cell_type": "markdown",
   "id": "be71df60-c022-4c9b-a8ee-8ee86e3cdfdf",
   "metadata": {},
   "source": [
    "## define the type of the features "
   ]
  },
  {
   "cell_type": "code",
   "execution_count": 221,
   "id": "e1d97a19-992d-41fe-88ea-2e155db23184",
   "metadata": {
    "scrolled": true,
    "tags": []
   },
   "outputs": [],
   "source": [
    "drop_columns = [ 'industry', 'sector', 'job_state', 'job_title', 'min_salary', 'max_salary', 'salary_estimate', 'job_description', 'company_name', 'location',  'size' , 'headquarters', 'revenue', 'competitors', 'hourly']\n",
    "one_hot_encode_columns = [ 'type_of_ownership','job_simp', 'seniority']\n",
    "scalling_columns = ['founded', 'age', 'desc_len']"
   ]
  },
  {
   "cell_type": "code",
   "execution_count": 222,
   "id": "0a05fcd0-61aa-4b31-957a-025fbc39e492",
   "metadata": {},
   "outputs": [
    {
     "data": {
      "text/plain": [
       "Index(['rating', 'founded', 'type_of_ownership', 'employer_provided',\n",
       "       'avg_salary', 'same_state', 'age', 'python', 'aws', 'spark', 'excel',\n",
       "       'job_simp', 'seniority', 'desc_len', 'num_comp'],\n",
       "      dtype='object')"
      ]
     },
     "execution_count": 222,
     "metadata": {},
     "output_type": "execute_result"
    }
   ],
   "source": [
    "df_droped = df.drop(columns=drop_columns, axis =1)\n",
    "df_droped.columns"
   ]
  },
  {
   "cell_type": "code",
   "execution_count": 223,
   "id": "c3369241-5b44-4853-adc0-83bb498aaccb",
   "metadata": {},
   "outputs": [],
   "source": [
    "# Converting some columns to 'category' datatype rto make it wasy to use One Hot Encoder\n",
    "\n",
    "# df_droped['industry'] = df_droped['industry'].astype('category')\n",
    "# df_droped['sector'] = df_droped['sector'].astype('category')\n",
    "# df_droped['job_state'] = df_droped['job_state'].astype('category')\n",
    "df_droped['job_simp'] = df_droped['job_simp'].astype('category')\n",
    "df_droped['job_simp'] = df_droped['job_simp'].astype('category')"
   ]
  },
  {
   "cell_type": "code",
   "execution_count": 224,
   "id": "06f27c7d-9cae-44a8-891b-d5dc12091151",
   "metadata": {},
   "outputs": [
    {
     "name": "stdout",
     "output_type": "stream",
     "text": [
      "<class 'pandas.core.frame.DataFrame'>\n",
      "RangeIndex: 742 entries, 0 to 741\n",
      "Data columns (total 15 columns):\n",
      " #   Column             Non-Null Count  Dtype   \n",
      "---  ------             --------------  -----   \n",
      " 0   rating             742 non-null    float64 \n",
      " 1   founded            742 non-null    int64   \n",
      " 2   type_of_ownership  742 non-null    object  \n",
      " 3   employer_provided  742 non-null    int64   \n",
      " 4   avg_salary         742 non-null    float64 \n",
      " 5   same_state         742 non-null    int64   \n",
      " 6   age                742 non-null    int64   \n",
      " 7   python             742 non-null    int64   \n",
      " 8   aws                742 non-null    int64   \n",
      " 9   spark              742 non-null    int64   \n",
      " 10  excel              742 non-null    int64   \n",
      " 11  job_simp           742 non-null    category\n",
      " 12  seniority          742 non-null    object  \n",
      " 13  desc_len           742 non-null    int64   \n",
      " 14  num_comp           742 non-null    int64   \n",
      "dtypes: category(1), float64(2), int64(10), object(2)\n",
      "memory usage: 82.4+ KB\n"
     ]
    }
   ],
   "source": [
    "df_droped.info()"
   ]
  },
  {
   "cell_type": "code",
   "execution_count": 225,
   "id": "4e3f92fb-211e-42bd-80b0-030a7054ae41",
   "metadata": {},
   "outputs": [],
   "source": [
    "# devide the data to X and y\n",
    "\n",
    "X = df_droped.drop('avg_salary', axis=1)\n",
    "y = df_droped.avg_salary"
   ]
  },
  {
   "cell_type": "markdown",
   "id": "19a9b69e-505b-4e42-b0d2-b84608946347",
   "metadata": {},
   "source": [
    "## Spling the data"
   ]
  },
  {
   "cell_type": "code",
   "execution_count": 226,
   "id": "e587e4b6-a799-489e-b028-2bcc99c250f0",
   "metadata": {},
   "outputs": [],
   "source": [
    "X_train, X_test, y_train, y_test = train_test_split(X, y, test_size=0.2, random_state=32)"
   ]
  },
  {
   "cell_type": "code",
   "execution_count": 227,
   "id": "6f9662a0-d1a8-42d5-9abe-d65d302f48d0",
   "metadata": {},
   "outputs": [
    {
     "data": {
      "text/plain": [
       "Index(['rating', 'founded', 'type_of_ownership', 'employer_provided',\n",
       "       'same_state', 'age', 'python', 'aws', 'spark', 'excel', 'job_simp',\n",
       "       'seniority', 'desc_len', 'num_comp'],\n",
       "      dtype='object')"
      ]
     },
     "execution_count": 227,
     "metadata": {},
     "output_type": "execute_result"
    }
   ],
   "source": [
    "X_train.columns"
   ]
  },
  {
   "cell_type": "markdown",
   "id": "8754e7f9-bdfb-49b1-b510-6b7c06692b6d",
   "metadata": {},
   "source": [
    "## Bulding the Pipeline"
   ]
  },
  {
   "cell_type": "code",
   "execution_count": 229,
   "id": "df5b2ed6-76f7-49fd-8a2b-24605b5012b6",
   "metadata": {},
   "outputs": [],
   "source": [
    "\n",
    "ohe = OneHotEncoder()\n",
    "imp = SimpleImputer()"
   ]
  },
  {
   "cell_type": "code",
   "execution_count": 230,
   "id": "ffb9664e-e5e7-4ae3-bf80-ac73f2bb841c",
   "metadata": {},
   "outputs": [],
   "source": [
    "ct = make_column_transformer(\n",
    "    (ohe, one_hot_encode_columns),  \n",
    "    (imp, scalling_columns), \n",
    "    remainder='passthrough') "
   ]
  },
  {
   "cell_type": "code",
   "execution_count": 231,
   "id": "bce38009-f967-4700-b141-0b7325d74cad",
   "metadata": {},
   "outputs": [
    {
     "data": {
      "text/plain": [
       "array([0.000e+00, 0.000e+00, 1.000e+00, 0.000e+00, 0.000e+00, 0.000e+00,\n",
       "       0.000e+00, 0.000e+00, 0.000e+00, 0.000e+00, 0.000e+00, 0.000e+00,\n",
       "       1.000e+00, 0.000e+00, 0.000e+00, 0.000e+00, 0.000e+00, 0.000e+00,\n",
       "       0.000e+00, 1.000e+00, 0.000e+00, 1.985e+03, 3.600e+01, 1.739e+03,\n",
       "       3.500e+00, 0.000e+00, 1.000e+00, 1.000e+00, 0.000e+00, 0.000e+00,\n",
       "       1.000e+00, 0.000e+00])"
      ]
     },
     "execution_count": 231,
     "metadata": {},
     "output_type": "execute_result"
    }
   ],
   "source": [
    "ct.fit_transform(X_train)[65]"
   ]
  },
  {
   "cell_type": "code",
   "execution_count": 232,
   "id": "fcf53756-82d5-43b3-b4e4-9c9cee8059ac",
   "metadata": {},
   "outputs": [],
   "source": [
    "from sklearn.ensemble import RandomForestRegressor\n",
    "reg = RandomForestRegressor()\n",
    "pipe = Pipeline([('preprocessor', ct), ('classifier', reg)])"
   ]
  },
  {
   "cell_type": "code",
   "execution_count": 233,
   "id": "766c9807-916c-4b58-95b6-bce70cc940d5",
   "metadata": {},
   "outputs": [
    {
     "data": {
      "text/plain": [
       "((593, 14), (149, 14), (593,), (149,))"
      ]
     },
     "execution_count": 233,
     "metadata": {},
     "output_type": "execute_result"
    }
   ],
   "source": [
    "X_train.shape , X_test.shape , y_train.shape, y_test.shape"
   ]
  },
  {
   "cell_type": "code",
   "execution_count": 234,
   "id": "b5467f12-3911-45c0-9461-e95df9748ed9",
   "metadata": {},
   "outputs": [
    {
     "data": {
      "text/plain": [
       "Pipeline(steps=[('preprocessor',\n",
       "                 ColumnTransformer(remainder='passthrough',\n",
       "                                   transformers=[('onehotencoder',\n",
       "                                                  OneHotEncoder(),\n",
       "                                                  ['type_of_ownership',\n",
       "                                                   'job_simp', 'seniority']),\n",
       "                                                 ('simpleimputer',\n",
       "                                                  SimpleImputer(),\n",
       "                                                  ['founded', 'age',\n",
       "                                                   'desc_len'])])),\n",
       "                ('classifier', RandomForestRegressor())])"
      ]
     },
     "execution_count": 234,
     "metadata": {},
     "output_type": "execute_result"
    }
   ],
   "source": [
    "pipe.fit(X_train, y_train)"
   ]
  },
  {
   "cell_type": "code",
   "execution_count": 235,
   "id": "ab386cad-7819-4c0c-ad25-a8cf0dc70cb4",
   "metadata": {},
   "outputs": [],
   "source": [
    "y_pred = pipe.predict(X_test)"
   ]
  },
  {
   "cell_type": "code",
   "execution_count": 236,
   "id": "ecd5c369-87e9-4eed-8615-a2273f03f49f",
   "metadata": {},
   "outputs": [
    {
     "data": {
      "text/plain": [
       "0.7216316329557104"
      ]
     },
     "execution_count": 236,
     "metadata": {},
     "output_type": "execute_result"
    }
   ],
   "source": [
    "pipe.score(X_test, y_test)"
   ]
  },
  {
   "cell_type": "code",
   "execution_count": 237,
   "id": "d9c279e2-f29a-410f-95cc-127f03de6d98",
   "metadata": {},
   "outputs": [],
   "source": [
    "# kfold = KFold(shuffle=True)\n",
    "# cross_val_score(pipe, X_train, y_train, cv=kfold)"
   ]
  },
  {
   "cell_type": "code",
   "execution_count": 238,
   "id": "f6e1eb46-37e1-44e5-bdd5-c1e94b929280",
   "metadata": {},
   "outputs": [
    {
     "data": {
      "text/plain": [
       "383.5382206375839"
      ]
     },
     "execution_count": 238,
     "metadata": {},
     "output_type": "execute_result"
    }
   ],
   "source": [
    "mse = mean_squared_error(y_test, y_pred)\n",
    "mse"
   ]
  },
  {
   "cell_type": "code",
   "execution_count": 239,
   "id": "e7d9fbbb-9f7c-4c67-8a02-61593c43c472",
   "metadata": {},
   "outputs": [
    {
     "data": {
      "text/plain": [
       "13.256946308724835"
      ]
     },
     "execution_count": 239,
     "metadata": {},
     "output_type": "execute_result"
    }
   ],
   "source": [
    "mae = mean_absolute_error(y_test, y_pred)\n",
    "mae"
   ]
  },
  {
   "cell_type": "code",
   "execution_count": 246,
   "id": "be40bb76-5a1a-4ee7-ae8d-d9bf98bb819e",
   "metadata": {},
   "outputs": [
    {
     "data": {
      "text/plain": [
       "['files/finalized_model.sav']"
      ]
     },
     "execution_count": 246,
     "metadata": {},
     "output_type": "execute_result"
    }
   ],
   "source": [
    "import joblib\n",
    "filename = 'files/finalized_model.sav'\n",
    "joblib.dump(pipe, filename)"
   ]
  },
  {
   "cell_type": "code",
   "execution_count": 241,
   "id": "fa1a64e6-1048-4c87-b0b3-d813a0e9b130",
   "metadata": {},
   "outputs": [
    {
     "name": "stdout",
     "output_type": "stream",
     "text": [
      "Pipeline(steps=[('preprocessor',\n",
      "                 ColumnTransformer(remainder='passthrough',\n",
      "                                   transformers=[('onehotencoder',\n",
      "                                                  OneHotEncoder(),\n",
      "                                                  ['type_of_ownership',\n",
      "                                                   'job_simp', 'seniority']),\n",
      "                                                 ('simpleimputer',\n",
      "                                                  SimpleImputer(),\n",
      "                                                  ['founded', 'age',\n",
      "                                                   'desc_len'])])),\n",
      "                ('classifier', RandomForestRegressor())])\n"
     ]
    }
   ],
   "source": [
    "with open(filename, 'rb') as file:\n",
    "    pipe = joblib.load(file)\n",
    "    print(pipe)"
   ]
  },
  {
   "cell_type": "code",
   "execution_count": null,
   "id": "09d2358b-d62e-4a91-b572-b340b9b442d8",
   "metadata": {},
   "outputs": [],
   "source": []
  }
 ],
 "metadata": {
  "kernelspec": {
   "display_name": "Python 3",
   "language": "python",
   "name": "python3"
  },
  "language_info": {
   "codemirror_mode": {
    "name": "ipython",
    "version": 3
   },
   "file_extension": ".py",
   "mimetype": "text/x-python",
   "name": "python",
   "nbconvert_exporter": "python",
   "pygments_lexer": "ipython3",
   "version": "3.8.5"
  }
 },
 "nbformat": 4,
 "nbformat_minor": 5
}
